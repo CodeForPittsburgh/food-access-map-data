{
 "cells": [
  {
   "cell_type": "code",
   "execution_count": 70,
   "id": "432dd2e3",
   "metadata": {},
   "outputs": [],
   "source": [
    "import id_duplicates_functions as idf"
   ]
  },
  {
   "cell_type": "code",
   "execution_count": 59,
   "id": "60c7450f",
   "metadata": {},
   "outputs": [
    {
     "name": "stderr",
     "output_type": "stream",
     "text": [
      "INFO:dedupe.api:reading training from file\n",
      "INFO:dedupe.training:Final predicate set:\n",
      "INFO:dedupe.training:SimplePredicate: (wholeFieldPredicate, name)\n",
      "INFO:dedupe.training:Final predicate set:\n",
      "INFO:dedupe.training:SimplePredicate: (twoGramFingerprint, address)\n",
      "INFO:dedupe.training:SimplePredicate: (wholeFieldPredicate, name)\n",
      "INFO:rlr.crossvalidation:using cross validation to find optimum alpha...\n",
      "INFO:rlr.crossvalidation:optimum alpha: 0.000010, score 0.0\n",
      "INFO:dedupe.training:Final predicate set:\n",
      "INFO:dedupe.training:(SimplePredicate: (sameSevenCharStartPredicate, address), SimplePredicate: (sameSevenCharStartPredicate, name), SimplePredicate: (oneGramFingerprint, address))\n",
      "INFO:dedupe.training:(SimplePredicate: (fingerprint, name), SimplePredicate: (doubleMetaphone, address))\n"
     ]
    }
   ],
   "source": [
    "#Load fake data (or any other properly-formatted data in the dataframe type)\n",
    "data = load_fake_data()\n",
    "rd = get_relevant_data(data)\n",
    "deduper = initialize_deduper(rd)"
   ]
  },
  {
   "cell_type": "code",
   "execution_count": 52,
   "id": "f4e0efc4",
   "metadata": {},
   "outputs": [
    {
     "name": "stderr",
     "output_type": "stream",
     "text": [
      "INFO:dedupe.api:reading training from file\n",
      "INFO:dedupe.training:Final predicate set:\n",
      "INFO:dedupe.training:SimplePredicate: (wholeFieldPredicate, name)\n",
      "INFO:dedupe.training:Final predicate set:\n",
      "INFO:dedupe.training:SimplePredicate: (twoGramFingerprint, address)\n",
      "INFO:dedupe.training:SimplePredicate: (wholeFieldPredicate, name)\n",
      "INFO:rlr.crossvalidation:using cross validation to find optimum alpha...\n",
      "INFO:rlr.crossvalidation:optimum alpha: 0.000010, score 0.0\n",
      "INFO:dedupe.training:Final predicate set:\n",
      "INFO:dedupe.training:(LevenshteinCanopyPredicate: (2, address), SimplePredicate: (sameSevenCharStartPredicate, name), TfidfTextCanopyPredicate: (0.2, name))\n"
     ]
    }
   ],
   "source": [
    "#Load deduper data\n",
    "data = load_fake_data()\n",
    "rd = get_relevant_data(data)\n",
    "deduper = initialize_deduper(rd)"
   ]
  },
  {
   "cell_type": "code",
   "execution_count": 49,
   "id": "b57403d2",
   "metadata": {},
   "outputs": [
    {
     "data": {
      "text/plain": [
       "[({'name': 'Northview Heights',\n",
       "   'address': '441 Mt. Pleasant Road',\n",
       "   'LatLong': (40.47895204, -80.00075696)},\n",
       "  {'name': 'Northview Heights Recreation Center',\n",
       "   'address': '524 Mt. Pleasant Road',\n",
       "   'LatLong': (40.47789611, -80.00035647)})]"
      ]
     },
     "execution_count": 49,
     "metadata": {},
     "output_type": "execute_result"
    }
   ],
   "source": [
    "#Run this to get \"uncertain pairs\", pairs the deduper is most curious to know if they're a match or not\n",
    "deduper.uncertain_pairs()"
   ]
  },
  {
   "cell_type": "code",
   "execution_count": 60,
   "id": "fa04f31e",
   "metadata": {},
   "outputs": [
    {
     "name": "stderr",
     "output_type": "stream",
     "text": [
      "INFO:dedupe.training:Final predicate set:\n",
      "INFO:dedupe.training:TfidfTextCanopyPredicate: (0.6, name)\n",
      "INFO:dedupe.training:SimplePredicate: (twoGramFingerprint, address)\n"
     ]
    }
   ],
   "source": [
    "#Depending on the result, copy array into either the 'match' or 'distinct' values of the key-value pairs below\n",
    "#You can also modify this for custom matches that aren't specified in uncertain pairs\n",
    "#Just make sure you get the syntax right!\n",
    "labeled_examples = {'match': [({'name': 'Northview Heights',\n",
    "   'address': '441 Mt. Pleasant Road',\n",
    "   'LatLong': (40.47895204, -80.00075696)},\n",
    "  {'name': 'Northview Heights Recreation Center',\n",
    "   'address': '524 Mt. Pleasant Road',\n",
    "   'LatLong': (40.47789611, -80.00035647)})],\n",
    "    'distinct' : []\n",
    "}\n",
    "deduper.mark_pairs(labeled_examples)\n"
   ]
  },
  {
   "cell_type": "code",
   "execution_count": 73,
   "id": "8c62594d",
   "metadata": {},
   "outputs": [],
   "source": [
    "#Then, when you're satisfied with the training, use the following to write the training to the training.json file\n",
    "with open('deduper_training_data/training.json', 'w') as f:\n",
    "    deduper.write_training(f)\n",
    "    f.close()"
   ]
  },
  {
   "cell_type": "code",
   "execution_count": null,
   "id": "27071cad",
   "metadata": {},
   "outputs": [],
   "source": []
  }
 ],
 "metadata": {
  "kernelspec": {
   "display_name": "Python 3",
   "language": "python",
   "name": "python3"
  },
  "language_info": {
   "codemirror_mode": {
    "name": "ipython",
    "version": 3
   },
   "file_extension": ".py",
   "mimetype": "text/x-python",
   "name": "python",
   "nbconvert_exporter": "python",
   "pygments_lexer": "ipython3",
   "version": "3.8.8"
  }
 },
 "nbformat": 4,
 "nbformat_minor": 5
}
