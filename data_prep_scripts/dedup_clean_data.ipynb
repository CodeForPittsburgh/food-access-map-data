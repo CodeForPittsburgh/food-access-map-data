{
 "cells": [
  {
   "cell_type": "code",
   "execution_count": 72,
   "metadata": {},
   "outputs": [],
   "source": [
    "import pandas as pd\n",
    "import numpy as np\n",
    "import abbreviate\n",
    "import usaddress\n",
    "import nltk\n",
    "import fuzzywuzzy\n",
    "import string\n",
    "from num2words import num2words\n",
    "import re"
   ]
  },
  {
   "cell_type": "code",
   "execution_count": 73,
   "metadata": {},
   "outputs": [],
   "source": [
    "dat = pd.read_csv('../../food-access-map-data/merged_datasets.csv')"
   ]
  },
  {
   "cell_type": "markdown",
   "metadata": {},
   "source": [
    "# preprocess addresses\n",
    "- strip punctuation from name\n",
    "- remove periods from street names\n"
   ]
  },
  {
   "cell_type": "code",
   "execution_count": 74,
   "metadata": {},
   "outputs": [],
   "source": [
    "dat['address'] = dat['address'].fillna('')"
   ]
  },
  {
   "cell_type": "code",
   "execution_count": 107,
   "metadata": {},
   "outputs": [],
   "source": [
    "#from https://gis.stackexchange.com/questions/336221/converting-abbreviation-street-type-names-to-full-names-using-dictionary-for-pyt\n",
    "d = { \n",
    "    'aly' : 'Alley',\n",
    "    'ave' : 'Avenue',\n",
    "    'blv' : 'Boulevard',\n",
    "    'blvd' : 'Boulevard',\n",
    "    'cir' : 'Circle',\n",
    "    'ct' : 'Court',\n",
    "    'cv' : 'Cove',\n",
    "    'cyn' : 'Canyon',\n",
    "    'dr' : 'Drive',\n",
    "    'expy' : 'Expressway',\n",
    "    'hwy' : 'Highway',\n",
    "    'ln' : 'Lane',\n",
    "    'pkwy' : 'Parkway',\n",
    "     'plz': 'Plaza',\n",
    "    'pl' : 'Place',\n",
    "    'pk' : 'Park',\n",
    "    'pt' : 'Point',\n",
    "    'rd' : 'Road',\n",
    "    'sq' : 'Square',\n",
    "    'st' : 'Street',\n",
    "    'ter' : 'Terrace',\n",
    "    'tr' : 'Trail',\n",
    "    'trl' : 'Trail',\n",
    "    'wy' : 'Way'\n",
    "    }"
   ]
  },
  {
   "cell_type": "code",
   "execution_count": 108,
   "metadata": {},
   "outputs": [],
   "source": [
    "\n",
    "#looks up the longer form \n",
    "def abbreviate(x):\n",
    "    no_punc = x.strip('.')\n",
    "    if no_punc.lower() in d.keys(): #rematch\n",
    "        return d[no_punc.lower()]\n",
    "    else:\n",
    "        return x"
   ]
  },
  {
   "cell_type": "code",
   "execution_count": 111,
   "metadata": {},
   "outputs": [],
   "source": [
    "dat_cleaned = dat.copy(deep = True)"
   ]
  },
  {
   "cell_type": "code",
   "execution_count": 113,
   "metadata": {},
   "outputs": [],
   "source": [
    "dat_cleaned['address'] = dat_cleaned['address'].apply(lambda x: ' '.join([abbreviate(w) for w in x.split()]))"
   ]
  },
  {
   "cell_type": "code",
   "execution_count": 114,
   "metadata": {},
   "outputs": [],
   "source": [
    "def convert_number_street_names(street):\n",
    "    if re.match(r'.*(\\d+)(rd|th|st).*', street) is None:\n",
    "        return street\n",
    "    return num2words(re.match(r'.*(\\d+)(rd|th|st).*', street)[1], lang=\"en\", to=\"ordinal\")"
   ]
  },
  {
   "cell_type": "code",
   "execution_count": 115,
   "metadata": {},
   "outputs": [],
   "source": [
    "#convert street numbers from number to letters\n",
    "dat_cleaned['address'] = dat_cleaned['address'].apply((lambda x: ' '.join([convert_number_street_names(w).capitalize() for w in x.split()])))"
   ]
  },
  {
   "cell_type": "code",
   "execution_count": 117,
   "metadata": {},
   "outputs": [],
   "source": [
    "dat_cleaned.to_csv(\"merged_datasets_11_9.csv\")"
   ]
  },
  {
   "cell_type": "markdown",
   "metadata": {},
   "source": [
    "## Scratch code for trying other approaches"
   ]
  },
  {
   "cell_type": "code",
   "execution_count": null,
   "metadata": {},
   "outputs": [],
   "source": [
    "\n",
    "# table = str.maketrans('', '', string.punctuation)\n"
   ]
  },
  {
   "cell_type": "code",
   "execution_count": null,
   "metadata": {},
   "outputs": [],
   "source": [
    "#remove punctuation\n",
    "# dat_cleaned['name'] = dat['name'].apply(lambda words: ''.join([w.translate(table) for w in words]).lower())"
   ]
  },
  {
   "cell_type": "code",
   "execution_count": 38,
   "metadata": {},
   "outputs": [],
   "source": [
    "#concatenate addresses for usaddress to parse through\n",
    "# combined_address = dat['address'].fillna('') \\\n",
    "#                     + ' ' + dat['city'].fillna('') + ' ' + dat['state'].fillna('') + ' ' + dat['zip_code'].fillna('')"
   ]
  },
  {
   "cell_type": "code",
   "execution_count": 40,
   "metadata": {},
   "outputs": [],
   "source": [
    "# #parse with usaddress\n",
    "# expanded_address_columns = combined_address.apply(usaddress.parse).apply(lambda x: {i[1]:i[0] for i in x}).apply(pd.Series)\n"
   ]
  },
  {
   "cell_type": "code",
   "execution_count": 16,
   "metadata": {},
   "outputs": [],
   "source": [
    "# #fill nulls with empty string\n",
    "# expanded_address_columns = expanded_address_columns.fillna('')"
   ]
  },
  {
   "cell_type": "code",
   "execution_count": 17,
   "metadata": {},
   "outputs": [],
   "source": [
    "# #remove all punctuation\n",
    "# for i in (expanded_address_columns.columns):\n",
    "#     expanded_address_columns[i] = expanded_address_columns[i].str.lower()\n",
    "#     expanded_address_columns[i] = expanded_address_columns[i].apply(lambda words: ''.join([w.translate(table) for w in words]).lower())"
   ]
  }
 ],
 "metadata": {
  "kernelspec": {
   "display_name": "Python 3",
   "language": "python",
   "name": "python3"
  },
  "language_info": {
   "codemirror_mode": {
    "name": "ipython",
    "version": 3
   },
   "file_extension": ".py",
   "mimetype": "text/x-python",
   "name": "python",
   "nbconvert_exporter": "python",
   "pygments_lexer": "ipython3",
   "version": "3.8.3"
  }
 },
 "nbformat": 4,
 "nbformat_minor": 4
}
