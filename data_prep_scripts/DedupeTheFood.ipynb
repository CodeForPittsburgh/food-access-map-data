{
 "cells": [
  {
   "cell_type": "code",
   "execution_count": 1,
   "metadata": {},
   "outputs": [],
   "source": [
    "import pandas as pd\n",
    "from scipy.spatial import cKDTree\n",
    "\n",
    "data = pd.read_csv(\"../merged_datasets.csv\")\n",
    "\n",
    "tree = cKDTree(data[['longitude','latitude']].astype(float))\n",
    "\n",
    "pairs = tree.query_pairs(.001, p=2)"
   ]
  },
  {
   "cell_type": "code",
   "execution_count": 2,
   "metadata": {},
   "outputs": [],
   "source": [
    "def combineDisjointedSets(pairs):\n",
    "    pairDict = {}\n",
    "    for pair in pairs:\n",
    "        if pair[0] not in pairDict:\n",
    "            pairDict[pair[0]] = {pair[0],pair[1]}\n",
    "            pairDict[pair[1]] = {pair[0]}\n",
    "        else: \n",
    "            pointer = pair[0]\n",
    "            while (len(pairDict[pointer]) == 1):\n",
    "\n",
    "                pointer = next(iter(pairDict[pointer]))\n",
    "            pairDict[pointer].add(pair[1])\n",
    "            pairDict[pair[1]] = {pointer}\n",
    "    return {k:x for k,x in pairDict.items() if len(x)>1}"
   ]
  },
  {
   "cell_type": "code",
   "execution_count": 3,
   "metadata": {},
   "outputs": [],
   "source": [
    "newpairs = combineDisjointedSets(pairs)"
   ]
  },
  {
   "cell_type": "code",
   "execution_count": 4,
   "metadata": {},
   "outputs": [
    {
     "name": "stderr",
     "output_type": "stream",
     "text": [
      "<ipython-input-4-b3ac86ecc682>:4: SettingWithCopyWarning: \n",
      "A value is trying to be set on a copy of a slice from a DataFrame\n",
      "\n",
      "See the caveats in the documentation: https://pandas.pydata.org/pandas-docs/stable/user_guide/indexing.html#returning-a-view-versus-a-copy\n",
      "  data[\"group\"][xx] = k\n"
     ]
    }
   ],
   "source": [
    "data[\"group\"] = \"\"\n",
    "for k,x in newpairs.items():\n",
    "    for xx in x:\n",
    "        data[\"group\"][xx] = k"
   ]
  },
  {
   "cell_type": "code",
   "execution_count": 5,
   "metadata": {
    "scrolled": true
   },
   "outputs": [
    {
     "name": "stderr",
     "output_type": "stream",
     "text": [
      "c:\\users\\maxac\\appdata\\local\\programs\\python\\python39\\lib\\site-packages\\fuzzywuzzy\\fuzz.py:11: UserWarning: Using slow pure-python SequenceMatcher. Install python-Levenshtein to remove this warning\n",
      "  warnings.warn('Using slow pure-python SequenceMatcher. Install python-Levenshtein to remove this warning')\n"
     ]
    }
   ],
   "source": [
    "from scipy.spatial.distance import pdist, squareform\n",
    "from fuzzywuzzy import fuzz\n",
    "import numpy as np\n",
    "from itertools import combinations\n",
    "\n",
    "def specialFuzz(x,y):\n",
    "    return (fuzz.ratio(x,y) + fuzz.partial_token_sort_ratio(x,y))/2\n",
    "\n",
    "newpairs2 = {}\n",
    "\n",
    "groups = [x for x in data[\"group\"].unique() if x != '']\n",
    "for group in groups:\n",
    "    names = np.array(data[data[\"group\"]==group][\"name\"].values).reshape(-1,1)\n",
    "    ids = np.array(data[data[\"group\"]==group].index).reshape(-1,1)\n",
    "    Y = pdist(names, specialFuzz)\n",
    "    pairwise = list(combinations(range(len(names)),2))\n",
    "    for i,y in enumerate(Y):\n",
    "        if y>75:\n",
    "            for ii in pairwise[i]:\n",
    "                if group in newpairs2:\n",
    "                    newpairs2[group].add(ids[ii][0])\n",
    "                else:\n",
    "                    newpairs2[group] = set(ids[ii])\n",
    "                "
   ]
  },
  {
   "cell_type": "code",
   "execution_count": 6,
   "metadata": {},
   "outputs": [
    {
     "name": "stderr",
     "output_type": "stream",
     "text": [
      "<ipython-input-6-d1cb4d205c60>:4: SettingWithCopyWarning: \n",
      "A value is trying to be set on a copy of a slice from a DataFrame\n",
      "\n",
      "See the caveats in the documentation: https://pandas.pydata.org/pandas-docs/stable/user_guide/indexing.html#returning-a-view-versus-a-copy\n",
      "  data[\"group2\"][xx] = k\n"
     ]
    }
   ],
   "source": [
    "data[\"group2\"] = \"\"\n",
    "for k,x in newpairs2.items():\n",
    "    for xx in x:\n",
    "        data[\"group2\"][xx] = k"
   ]
  },
  {
   "cell_type": "code",
   "execution_count": 7,
   "metadata": {},
   "outputs": [],
   "source": [
    "data.to_csv(\"FoodGroups2.csv\")"
   ]
  },
  {
   "cell_type": "code",
   "execution_count": null,
   "metadata": {},
   "outputs": [],
   "source": []
  }
 ],
 "metadata": {
  "kernelspec": {
   "display_name": "Python 3",
   "language": "python",
   "name": "python3"
  },
  "language_info": {
   "codemirror_mode": {
    "name": "ipython",
    "version": 3
   },
   "file_extension": ".py",
   "mimetype": "text/x-python",
   "name": "python",
   "nbconvert_exporter": "python",
   "pygments_lexer": "ipython3",
   "version": "3.9.1"
  }
 },
 "nbformat": 4,
 "nbformat_minor": 4
}
